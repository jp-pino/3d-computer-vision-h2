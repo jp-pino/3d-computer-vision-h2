{
 "cells": [
  {
   "cell_type": "markdown",
   "metadata": {},
   "source": [
    "# 3D Computer Vision (2023/24)\n",
    "\n",
    "## Exercise 2\n",
    "\n",
    "Submitted by Group 25: \n",
    "- Juan Pablo Pino Bravo\n",
    "- Mahmoud Abuhussien\n",
    "- Vaishnavi Shirbhate\n",
    "- Asmita Sengupta\n",
    "\n",
    "Upload: 22.11.2023 (11:30)\n",
    "\n",
    "**Deadline**: 05.12.2023 (23:59)\n",
    "\n",
    "Please hand in a single **.zip** file named according to the pattern \"**groupXX_exerciseX**\" (e.g. group00_exercise9). The contents of the .zip should be as follows:\n",
    "- folder named according to the pattern groupXX_exerciseX\n",
    "    - **.ipynb** file\n",
    "    - **.html** export of .ipynb with all the outputs you got\n",
    "    - **data** folder containing necessary files to run the code\n",
    "\n",
    "I.e.\n",
    "1. **unzip** the provided exerciseX.zip file\n",
    "2. **rename** folder \"exerciseX\" according to the pattern \"groupXX_exerciseX\"\n",
    "3. **solve** tasks inside .ipynb file\n",
    "4. **export** notebook as .html (File > Download as > HTML)\n",
    "5. **zip** folder groupXX_exerciseX\n",
    "6. **submit** groupXX_exerciseX.zip"
   ]
  },
  {
   "cell_type": "markdown",
   "metadata": {},
   "source": [
    "## Theory"
   ]
  },
  {
   "cell_type": "markdown",
   "metadata": {},
   "source": [
    "### T1. Homography"
   ]
  },
  {
   "cell_type": "markdown",
   "metadata": {},
   "source": [
    "#### (a)\n",
    "In order to map arbitrary 3D world coordinates to 2D image coordinates, we usually use the camera matrix P.\n",
    "- Explain the reason, why we cannot apply 3x3 homographies in the general case.\n",
    "- What are the two exceptional scenarios (regarding the type of scene and camera motion) where homographies appear between corresponding points?"
   ]
  },
  {
   "cell_type": "markdown",
   "metadata": {},
   "source": [
    "#### Solution\n",
    "1. Homographies assume all points lie on the same plane, neglecting depth variations in a 3D scene.\n",
    "2. Homographies capture only intrinsic parameters of the camera, lacking information about the camera's position and orientation in 3D space.\n",
    "3. Homographies work well for planar surfaces but break down when dealing with non-planar scenes, where points are distributed in three dimensions.\n",
    "\n",
    "3x4 camera matrix P incorporates both intrinsic and extrinsic parameters, providing a more comprehensive model for accurate 3D-to-2D mapping in a general non-planar environment.\n",
    "\n",
    "##### Exceptional scenarios\n",
    "  - Purely rotating camera, arbitrary scene\n",
    "  - Rotating and translating camera, planar scene"
   ]
  },
  {
   "cell_type": "markdown",
   "metadata": {},
   "source": [
    "#### (b)\n",
    "During the estimation of a homography using corresponding 2D points ($x, x'$):\n",
    "- Why can we not use $x'-Hx=0$?\n",
    "- What relation do we use instead?"
   ]
  },
  {
   "cell_type": "markdown",
   "metadata": {},
   "source": [
    "#### Solution\n",
    "- We cannot use $x'-Hx=0$ because scale is arbitrary in homographies. It is only true that $x' \\propto Hx$.\n",
    "- Instead, we start with the scale invariant relation $\\lambda x' = Hx$ and use the cross product to remove scale factor $\\lambda$. This gives us the relation $x' \\times Hx = 0$.\n"
   ]
  },
  {
   "cell_type": "markdown",
   "metadata": {},
   "source": [
    "### T2. Parameter Estimation"
   ]
  },
  {
   "cell_type": "markdown",
   "metadata": {},
   "source": [
    "#### (a)\n",
    "For linear parameter estimation, we construct linear systems of equations in the form of $Ax=0$, where $A$ are measurements.\n",
    "- Why do we solve this as a minimization problem?\n",
    "- What is the trivial solution and why do we have to avoid it?\n",
    "- How do we reformulate problems of the form $argmin ||Ax||_2^2$, subject to $||x||_2^2=1$ to minimize them?"
   ]
  },
  {
   "cell_type": "markdown",
   "metadata": {},
   "source": [
    "#### Solution\n",
    "- We have to estimate the parameters as a minimization problem because the measurements are noisy and therefore we cannot find an exact closed form solution. This is because we get a system of equations that is overdetermined. By solving as a minimization problem, we can find the solution that gets us close to $Ax \\approx 0$.\n",
    "- The trivial solution is the zero vector, which is not useful because it does not provide any information about the parameters. We avoid it by constraining the parameters to have a norm of 1 (i.e. $||x||_2^2=1$).\n",
    "- Using Lagrange multipliers, we can reformulate the problem as $argmin \\left(||Ax||_2^2 + \\lambda(1 -||x||_2^2)\\right)$, where $\\lambda$ is the Lagrange multiplier. We can then take the derivative with respect to $x$ and set it to zero to find the solution. The solution is the eigenvector corresponding to the smallest eigenvalue of $A^TA$."
   ]
  },
  {
   "cell_type": "markdown",
   "metadata": {},
   "source": [
    "#### (b)\n",
    "Describe four advantages of non-linear parameter estimation methods over linear approaches."
   ]
  },
  {
   "cell_type": "markdown",
   "metadata": {},
   "source": [
    "#### Solution\n",
    "\n",
    "1. Non-linear methods are generally more robust to measurement noise and outliers compared to linear approaches.\n",
    "\n",
    "2. Non-linear methods effectively capture complex relationships in data that linear methods may struggle to represent.\n",
    "\n",
    "3. Better at modeling dependencies that are non-linear, providing greater flexibility compared to linear methods.\n",
    "\n",
    "4. Yield more accurate and precise parameter estimates than linear methods\n"
   ]
  },
  {
   "cell_type": "markdown",
   "metadata": {},
   "source": [
    "#### (c)\n",
    "Non-linear estimation methods minimize a different error formulation than linear methods.\n",
    "<br/>\n",
    "Name and mathematically formulate the common errors used for the estimation of the camera matrix $P$ and the homography $H$."
   ]
  },
  {
   "cell_type": "markdown",
   "metadata": {},
   "source": [
    "#### Solution\n"
   ]
  },
  {
   "cell_type": "markdown",
   "metadata": {},
   "source": [
    "Non-linear estimation uses maximum likelihood estimation method by minimizing the reprojection error. "
   ]
  },
  {
   "cell_type": "markdown",
   "metadata": {},
   "source": [
    "### T3. Camera Center in Wold Coordinates\n",
    "We are following the convention that a point $\\textbf{X}_W$ in homogeneous world coordinates is transformed to camera coordinates as follows:\n",
    "\\begin{align*}\n",
    "    \\textbf{X}_C = [\\textbf{R}\\, |\\, \\textbf{t}]\\, \\textbf{X}_W.\n",
    "\\end{align*}\n",
    "\n",
    "The camera center in world coordinates $\\textbf{C}_{W}$ can be expressed in terms of the extrinsic camera parameters by\n",
    "\\begin{align*}\n",
    "    \\textbf{C}_{W}=-\\textbf{R}^\\mathsf{T}\\textbf{t}.\n",
    "\\end{align*}"
   ]
  },
  {
   "cell_type": "markdown",
   "metadata": {},
   "source": [
    "#### (a)\n",
    "Prove that $\\textbf{C}_W=-\\textbf{R}^T\\textbf{t}$.\n",
    "<br/>\n",
    "*(Hint: Where is the camera center in camera coordinates ($\\textbf{C}_C$)?)*"
   ]
  },
  {
   "cell_type": "markdown",
   "metadata": {},
   "source": [
    "#### Solution\n",
    "\n",
    "\\begin{align*}\n",
    "    \\textbf{X}_C & = [\\textbf{R}\\, |\\, \\textbf{t}]\\, \\textbf{X}_W \\\\ \\\\\n",
    "    \\begin{bmatrix}0 \\\\ 0 \\\\ 0 \\\\ 1 \\end{bmatrix} & = [\\textbf{R}\\, |\\, \\textbf{t}]\\, \\textbf{C}_W \\\\\n",
    "\\end{align*}"
   ]
  },
  {
   "cell_type": "markdown",
   "metadata": {},
   "source": [
    "This leads to the system of equations:\n",
    "\\begin{align*}\n",
    "   \\begin{cases} \\textbf{RC}_W + \\textbf{t} = \\textbf{0} \\\\ 1 = 1 \\end{cases}\\\\\n",
    "\\end{align*}"
   ]
  },
  {
   "cell_type": "markdown",
   "metadata": {},
   "source": [
    "Multiply both sides of the first equation by $\\textbf{R}^T$:\n",
    "\\begin{align*}\n",
    "   \\textbf{R}^T\\textbf{RC}_W + \\textbf{R}^T\\textbf{t} &= \\textbf{0} \\\\\n",
    "   \\textbf{R}^T\\textbf{R} &= \\textbf{I} \\\\\n",
    "   \\textbf{C}_W + \\textbf{R}^T\\textbf{t}& = \\textbf{0} \\\\\n",
    "   \\textbf{C}_W &= -\\textbf{R}^T\\textbf{t}\n",
    "\\end{align*}"
   ]
  },
  {
   "cell_type": "markdown",
   "metadata": {},
   "source": [
    "#### (b)\n",
    "In this context, illustrate the meaning of $\\textbf{t} = -\\textbf{R}\\textbf{C}_W$ using **a few sentences**.\n",
    "<br/>\n",
    "I.e. from where to where does this vector point, considering the world and camera coordinate systems?\n",
    "<br/>\n",
    "*(Hint: We recommend using a piece of paper and drawing on it to visualize everything for yourself before answering.)*"
   ]
  },
  {
   "cell_type": "markdown",
   "metadata": {},
   "source": [
    "#### Solution\n",
    "\n",
    "In the expression t=−RCw, translation vector (t) points from the camera coordinate system to the world coordinate system.\n",
    "Cw represents the position of the camera in the world coordinate system.\n",
    "R is the rotation matrix representing the orientation of the camera. When multiplied by Cw, it transforms the camera center from the world coordinate system to the camera coordinate system.\n",
    "−RCw: The negative sign indicates a transformation in the opposite direction.\n",
    "\n",
    "The vector t represents the displacement from the camera origin in the camera coordinate system to the camera center in the world coordinate system. It tells us how much the camera has moved and in which direction in the world coordinate system"
   ]
  },
  {
   "cell_type": "markdown",
   "metadata": {},
   "source": [
    "## Implementation\n"
   ]
  },
  {
   "cell_type": "markdown",
   "metadata": {},
   "source": [
    "### I1. Transformation Hierarchy\n",
    "We have seen some examples of transformation hierarchies in the lecture. In this task, you can experiment with the effects of modifying different values of a homography, which is applied to a square.\n",
    "The given code draws a square before transformation in blue and a square after transformation by $\\textbf{h}$ in red."
   ]
  },
  {
   "cell_type": "markdown",
   "metadata": {},
   "source": [
    "#### (a)\n",
    "Experiment to find a homography that creates a figure **similar** to the following example.\n",
    "<br/>\n",
    "*(Hint: Consider which type of homography matches the seen transformation and adjust your homography incrementally. It does not have to be a perfect match.)*\n",
    "![coordinate_transform](figures/homography.png)"
   ]
  },
  {
   "cell_type": "code",
   "execution_count": null,
   "metadata": {},
   "outputs": [],
   "source": [
    "'''You should not need any additional imports'''\n",
    "import matplotlib.pyplot as plt\n",
    "import numpy as np\n"
   ]
  },
  {
   "cell_type": "code",
   "execution_count": 132,
   "metadata": {},
   "outputs": [
    {
     "name": "stdout",
     "output_type": "stream",
     "text": [
      "Using homography:\n",
      "[[ 0.5 -0.5  1. ]\n",
      " [ 0.5  0.5  0. ]\n",
      " [ 0.   0.   1. ]]\n"
     ]
    },
    {
     "data": {
      "image/png": "[encoded data removed]",
      "text/plain": [
       "<Figure size 500x500 with 1 Axes>"
      ]
     },
     "metadata": {},
     "output_type": "display_data"
    }
   ],
   "source": [
    "'''Experiment by changing the values of the homography here!'''\n",
    "\n",
    "\n",
    "# Area of the new square is 1/2 of the original square \n",
    "# A1 = l1^2\n",
    "# A2 = l2^2\n",
    "# A2 = 1/2 * A1\n",
    "# l2^2 = 1/2 * l1^2\n",
    "# l2 = sqrt(1/2) * l1\n",
    "# s = l2/l1 = sqrt(1/2)\n",
    "s = np.sqrt(1/2)\n",
    "deg = 45 * np.pi/180\n",
    "sin = np.sin(deg)\n",
    "cos = np.cos(deg)\n",
    "h = np.array([s * cos, -s * sin, 1,\n",
    "              s * sin, s * cos, 0,\n",
    "              0, 0, 1]).reshape(3,3)\n",
    "print(\"Using homography:\")\n",
    "print(h)\n",
    "\n",
    "# corners of the square\n",
    "xy = np.array([[0,0],[2,0],[2,2],[0,2]])#[4, 2]\n",
    "# add homogenous coordinate\n",
    "xy = np.concatenate([xy, np.ones_like(xy[:,:1])], axis=1)#[4, 3]\n",
    "# apply homography\n",
    "xy_h = np.matmul(h, xy.reshape(-1, 3, 1)).reshape(-1, 3)#[3,3]*[4,3,1]=[4,3,1]-> [4,3]\n",
    "# normalize\n",
    "xy_hn = xy_h/xy_h[:,2:]\n",
    "\n",
    "#Create figure\n",
    "fig = plt.figure(figsize=(5,5))\n",
    "ax = fig.add_subplot()\n",
    "ax.set_xlabel('X')\n",
    "ax.set_ylabel('Y')\n",
    "\n",
    "#scatter points of the square and draw lines\n",
    "ax.scatter(xy[:,0], xy[:,1], marker='o', color='blue')\n",
    "ax.plot(np.concatenate([xy[:,0],xy[:1,0]], axis=0),\n",
    "        np.concatenate([xy[:,1],xy[:1,1]], axis=0), color='blue')\n",
    "#scatter points of the square after applying the homography and draw lines\n",
    "ax.scatter(xy_hn[:,0], xy_hn[:,1], marker='^', color='red')\n",
    "ax.plot(np.concatenate([xy_hn[:,0],xy_hn[:1,0]], axis=0),\n",
    "        np.concatenate([xy_hn[:,1],xy_hn[:1,1]], axis=0), color='red', linestyle='dashed')\n",
    "\n",
    "plt.grid()\n",
    "plt.show()\n"
   ]
  },
  {
   "cell_type": "markdown",
   "metadata": {},
   "source": [
    "#### (b)\n",
    "Which type of homography was used to create the transformation from the previous subtask **(a)**? Name the type that matches it the closest.\n",
    "<br/>\n",
    "Argue based on the properties you can see and the results of your experimentations that lead to a similar homography.\n",
    "\n",
    "#### Solution\n",
    "\n",
    "It is a similarity transformation, which allows for rotation, scaling and translation. It preserves ratios of length, angle, ratios of areas, parallel lines. The transformation is a rotation by 45 deg, a scaling by sqrt(1/2) and a translation on thex axis by 1. The new square has an area of 0.5 times the original square which leads to the scaling factor of sqrt(1/2). The rotation is 45 degrees. To center the square, the translation is 0.5 times the width of the square original square. in the x axis."
   ]
  },
  {
   "cell_type": "markdown",
   "metadata": {},
   "source": [
    "### I2. Relative Rotation Estimation from Homography\n",
    "A homography between two images taken with the same camera can be used to compute the relative rotation $\\textbf{R}_{rel}$ when the camera has undergone a pure rotation, i.e. no translation between the two views.\n",
    "<br/>\n",
    "For the following tasks, you find the required intrinsic parameters of the camera ($\\alpha_x, \\alpha_y, x_0, y_0, s$) and the homographies $\\textbf{H}_i$ in the file **data/calib.mat**."
   ]
  },
  {
   "cell_type": "markdown",
   "metadata": {},
   "source": [
    "From the lecture we know the following equations which relate *Homography*, *Rotation*, and *Intriniscs*\n",
    "\n",
    "\\begin{align*}\n",
    "    H = K\\,R\\,K^{-1}\n",
    "    \\implies R = K^{-1}\\,H\\,K\n",
    "\\end{align*}\n",
    "\n",
    "We are given the following homography matrices:\n",
    "- H<sub>1</sub> obtained after pure rotation\n",
    "    - We expect the rotation recovered from $H_{1}$ to be pure rotation\n",
    "- H<sub>2</sub> after a manual rotation\n",
    "    - Rotation recovered from $H_{2}$ might not be a proper rotation matrix therefore we need to perform some  corrections"
   ]
  },
  {
   "cell_type": "code",
   "execution_count": 23,
   "metadata": {},
   "outputs": [],
   "source": [
    "'''You can add all your imports here'''\n",
    "import numpy as np\n",
    "import scipy.io as io\n"
   ]
  },
  {
   "cell_type": "markdown",
   "metadata": {},
   "source": [
    "#### (a)\n",
    "Write a function **load_data** that does the following:\n",
    "- Load the two homographies and construct the calibration matrix\n",
    "\n",
    "The inputs should be:\n",
    "- A string with the path of the data file\n",
    "\n",
    "The outputs should be:\n",
    "- A dictionary containing **at least** the following:\n",
    "    - camera matrix $K$\n",
    "    - homography $H_1$\n",
    "    - homography $H_2$"
   ]
  },
  {
   "cell_type": "code",
   "execution_count": 134,
   "metadata": {},
   "outputs": [
    {
     "data": {
      "text/plain": [
       "{'K': array([[5500,    0, 2376],\n",
       "        [   0, 5500, 1632],\n",
       "        [   0,    0,    1]]),\n",
       " 'H1': array([[ 4.32000e-01,  0.00000e+00, -6.52643e+03],\n",
       "        [ 2.96727e-01,  1.00000e+00, -2.33702e+03],\n",
       "        [ 1.81818e-04,  0.00000e+00, -4.32000e-01]]),\n",
       " 'H2': array([[-4.68504e-02,  9.90566e-01,  8.89185e+02],\n",
       "        [-1.00065e+00, -3.73135e-02,  4.26905e+03],\n",
       "        [-4.00000e-07, -2.58182e-06,  1.05136e+00]])}"
      ]
     },
     "execution_count": 134,
     "metadata": {},
     "output_type": "execute_result"
    }
   ],
   "source": [
    "def load_data(file_name):\n",
    "    '''Load data from a .mat file'''\n",
    "    data = io.loadmat(file_name)\n",
    "    return { \n",
    "        \"K\" : np.array([[data[\"alpha_x\"][0][0], data[\"s\"][0][0], data[\"x_0\"][0][0]], [0, data[\"alpha_y\"][0][0], data[\"y_0\"][0][0]], [0, 0, 1]]),\n",
    "        \"H1\": data[\"H1\"],\n",
    "        \"H2\": data[\"H2\"],\n",
    "    }\n",
    "\n",
    "load_data('data/calib.mat')\n"
   ]
  },
  {
   "cell_type": "markdown",
   "metadata": {},
   "source": [
    "#### (b)\n",
    "Write a function **compute_relative_rotation** that does the following:\n",
    "- Computes the relative rotation between two images based on a homography\n",
    "- As an option: corrects the rotation matrix\n",
    "\n",
    "The inputs should be:\n",
    "- A Homography\n",
    "- The Calibration matrix\n",
    "- A flag for correction\n",
    "\n",
    "The outputs should be:\n",
    "- The (relative) rotation matrix"
   ]
  },
  {
   "cell_type": "code",
   "execution_count": 126,
   "metadata": {},
   "outputs": [],
   "source": [
    "def compute_relative_rotation(H, K, correct=False):\n",
    "    R = np.linalg.inv(K) @ H @ K\n",
    "    if correct:\n",
    "        # Correct rotation matrix using SVD\n",
    "        U, _, V = np.linalg.svd(R) \n",
    "        R = U @ V.T\n",
    "    return R\n"
   ]
  },
  {
   "cell_type": "markdown",
   "metadata": {},
   "source": [
    "#### (c)\n",
    "Write code that executes the following steps:\n",
    "- Call **load_data** on the provided data file\n",
    "- Call **compute_relative_rotation** for $H_1$\n",
    "- Compute whether the result is a proper rotation matrix\n",
    "- Call **compute_relative_rotation** for $H_2$\n",
    "- Compute whether the result is a proper rotation matrix\n",
    "\n",
    "*(Hint: Check the definitions of a rotation matrix to find a way to compute its correctness)*"
   ]
  },
  {
   "cell_type": "code",
   "execution_count": 135,
   "metadata": {},
   "outputs": [
    {
     "name": "stdout",
     "output_type": "stream",
     "text": [
      "R1: [[ 4.32000000e-07  0.00000000e+00 -9.99999450e-01]\n",
      " [ 2.40000000e-08  1.00000000e+00  7.37640727e-07]\n",
      " [ 9.99999000e-01  0.00000000e+00 -4.32000000e-07]]\n",
      "Is R1 a rotation matrix? True\n",
      "R2: [[-0.0459      0.9967004  -0.01659813]\n",
      " [-0.9999972  -0.03309997  0.02240327]\n",
      " [-0.0022     -0.01420001  1.04619607]]\n",
      "Is R2 a rotation matrix? False\n"
     ]
    }
   ],
   "source": [
    "def is_rotation_matrix(R):\n",
    "    # Verify that R1 is a rotation matrix\n",
    "    # A rotation matrix is orthogonal and has determinant 1\n",
    "    # A matrix is orthogonal if R^T * R = I\n",
    "    det = np.linalg.det(R)\n",
    "    I = R.T @ R\n",
    "    Z = np.abs(I) - np.identity(3)\n",
    "    return np.isclose(det, 1) and np.allclose(Z, 0, atol=1e-05)\n",
    "\n",
    "data = load_data('data/calib.mat')\n",
    "\n",
    "K = data[\"K\"]\n",
    "H1 = data[\"H1\"]\n",
    "H2 = data[\"H2\"]\n",
    "\n",
    "R1 = compute_relative_rotation(H1, K)\n",
    "print(\"R1:\", R1)\n",
    "print(\"Is R1 a rotation matrix?\", is_rotation_matrix(R1))\n",
    "\n",
    "R2 = compute_relative_rotation(H2, K)\n",
    "print(\"R2:\", R2)\n",
    "print(\"Is R2 a rotation matrix?\", is_rotation_matrix(R2))\n"
   ]
  },
  {
   "cell_type": "markdown",
   "metadata": {},
   "source": [
    "#### (d)\n",
    "Write code that executes the following steps:\n",
    "- Call **compute_relative_rotation** for $H_2$, using the correction flag\n",
    "- Compute whether the result is a proper rotation matrix and compare to before"
   ]
  },
  {
   "cell_type": "code",
   "execution_count": 128,
   "metadata": {},
   "outputs": [
    {
     "name": "stdout",
     "output_type": "stream",
     "text": [
      "R2 corrected: [[-0.8135403   0.57037867 -0.11322696]\n",
      " [ 0.33611292  0.30233539 -0.89197613]\n",
      " [-0.47453164 -0.76371558 -0.43767367]]\n",
      "Is R2 corrected a rotation matrix? True\n"
     ]
    }
   ],
   "source": [
    "R2_corrected = compute_relative_rotation(H2, K, correct=True)\n",
    "print(\"R2 corrected:\", R2_corrected)\n",
    "print(\"Is R2 corrected a rotation matrix?\", is_rotation_matrix(R2_corrected))\n"
   ]
  },
  {
   "cell_type": "markdown",
   "metadata": {},
   "source": [
    "#### (e)\n",
    "Why does the rotation matrix computed from $\\textbf{H}_2$ need correction?"
   ]
  },
  {
   "cell_type": "markdown",
   "metadata": {},
   "source": [
    "#### Solution\n"
   ]
  },
  {
   "cell_type": "markdown",
   "metadata": {},
   "source": [
    "Real data might be noisy, which can lead to an invalid rotation matrix. We can use SVD to make the matrix orthogonal by setting the singular values to 1."
   ]
  },
  {
   "cell_type": "markdown",
   "metadata": {},
   "source": []
  }
 ],
 "metadata": {
  "kernelspec": {
   "display_name": "Python 3 (ipykernel)",
   "language": "python",
   "name": "python3"
  },
  "language_info": {
   "codemirror_mode": {
    "name": "ipython",
    "version": 3
   },
   "file_extension": ".py",
   "mimetype": "text/x-python",
   "name": "python",
   "nbconvert_exporter": "python",
   "pygments_lexer": "ipython3",
   "version": "3.9.16"
  }
 },
 "nbformat": 4,
 "nbformat_minor": 2
}
